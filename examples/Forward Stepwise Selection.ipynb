{
 "cells": [
  {
   "cell_type": "markdown",
   "metadata": {},
   "source": [
    "# Forward Stepwise Selection\n",
    "\n",
    "We show how to use forward stepwise selection to select a subset of features to use in the linear regression model."
   ]
  },
  {
   "cell_type": "code",
   "execution_count": 1,
   "metadata": {},
   "outputs": [],
   "source": [
    "import numpy as np\n",
    "from sklearn import datasets\n",
    "\n",
    "from mltools.glm import LinearRegression\n",
    "from mltools.glm import FSSLinearRegression"
   ]
  },
  {
   "cell_type": "code",
   "execution_count": 2,
   "metadata": {},
   "outputs": [],
   "source": [
    "# Set NumPy random number generator seed for replicability\n",
    "np.random.seed(100)"
   ]
  },
  {
   "cell_type": "markdown",
   "metadata": {},
   "source": [
    "## Load the Data"
   ]
  },
  {
   "cell_type": "code",
   "execution_count": 3,
   "metadata": {},
   "outputs": [],
   "source": [
    "data = datasets.load_diabetes()\n",
    "\n",
    "# Shuffle data\n",
    "n = len(data.target)\n",
    "idx = np.random.permutation(n)\n",
    "x = data.data[idx, :]\n",
    "y = data.target[idx]\n",
    "\n",
    "# 50/50 training/testing split\n",
    "x_train = x[:(n // 2), :]\n",
    "x_test = x[(n // 2):, :]\n",
    "y_train = y[:(n // 2)]\n",
    "y_test = y[(n // 2):]"
   ]
  },
  {
   "cell_type": "markdown",
   "metadata": {},
   "source": [
    "## Ordinary Linear Regression"
   ]
  },
  {
   "cell_type": "code",
   "execution_count": 4,
   "metadata": {},
   "outputs": [
    {
     "name": "stdout",
     "output_type": "stream",
     "text": [
      "CPU times: user 1.64 ms, sys: 682 µs, total: 2.32 ms\n",
      "Wall time: 3.09 ms\n"
     ]
    }
   ],
   "source": [
    "%%time\n",
    "model = LinearRegression()\n",
    "model.fit(x_train, y_train)"
   ]
  },
  {
   "cell_type": "code",
   "execution_count": 5,
   "metadata": {},
   "outputs": [
    {
     "name": "stdout",
     "output_type": "stream",
     "text": [
      "Training MSE:   2500.425\n",
      "Testing MSE:    3320.616\n",
      "Full data MSE:  2910.521\n"
     ]
    }
   ],
   "source": [
    "mse_train = model.mse(x_train, y_train)\n",
    "mse_test = model.mse(x_test, y_test)\n",
    "mse_full = model.mse(x, y)\n",
    "print(f\"Training MSE:   {mse_train:.3f}\")\n",
    "print(f\"Testing MSE:    {mse_test:.3f}\")\n",
    "print(f\"Full data MSE:  {mse_full:.3f}\")"
   ]
  },
  {
   "cell_type": "markdown",
   "metadata": {},
   "source": [
    "## Forward Stepwise Selection"
   ]
  },
  {
   "cell_type": "code",
   "execution_count": 6,
   "metadata": {},
   "outputs": [
    {
     "name": "stdout",
     "output_type": "stream",
     "text": [
      "CPU times: user 27.6 ms, sys: 4.21 ms, total: 31.8 ms\n",
      "Wall time: 34.6 ms\n"
     ]
    }
   ],
   "source": [
    "%%time\n",
    "model = FSSLinearRegression()\n",
    "model.fit(x_train, y_train, f_threshold=4)"
   ]
  },
  {
   "cell_type": "code",
   "execution_count": 7,
   "metadata": {},
   "outputs": [
    {
     "name": "stdout",
     "output_type": "stream",
     "text": [
      "Selected feature indices: [1 2 3 4 5 8]\n"
     ]
    }
   ],
   "source": [
    "print(f\"Selected feature indices: {model.indices}\")"
   ]
  },
  {
   "cell_type": "code",
   "execution_count": 8,
   "metadata": {},
   "outputs": [
    {
     "name": "stdout",
     "output_type": "stream",
     "text": [
      "Training MSE:   2534.766\n",
      "Testing MSE:    3297.840\n",
      "Full data MSE:  2916.303\n"
     ]
    }
   ],
   "source": [
    "mse_train = model.mse(x_train, y_train)\n",
    "mse_test = model.mse(x_test, y_test)\n",
    "mse_full = model.mse(x, y)\n",
    "print(f\"Training MSE:   {mse_train:.3f}\")\n",
    "print(f\"Testing MSE:    {mse_test:.3f}\")\n",
    "print(f\"Full data MSE:  {mse_full:.3f}\")"
   ]
  }
 ],
 "metadata": {
  "kernelspec": {
   "display_name": "Python 3",
   "language": "python",
   "name": "python3"
  },
  "language_info": {
   "codemirror_mode": {
    "name": "ipython",
    "version": 3
   },
   "file_extension": ".py",
   "mimetype": "text/x-python",
   "name": "python",
   "nbconvert_exporter": "python",
   "pygments_lexer": "ipython3",
   "version": "3.6.4"
  }
 },
 "nbformat": 4,
 "nbformat_minor": 2
}
