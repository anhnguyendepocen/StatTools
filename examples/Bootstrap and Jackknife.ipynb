{
 "cells": [
  {
   "cell_type": "markdown",
   "metadata": {},
   "source": [
    "# The Bootstrap and the Jackknife\n",
    "\n",
    "We present an example showing how to estimate the standard error of the correlation between two random vectors using the non-parametric bootstrap and the jackknife."
   ]
  },
  {
   "cell_type": "code",
   "execution_count": 1,
   "metadata": {},
   "outputs": [],
   "source": [
    "import numpy as np\n",
    "import matplotlib.pyplot as plt\n",
    "import seaborn as sns\n",
    "sns.set(style=\"ticks\", palette=\"muted\", color_codes=True)\n",
    "\n",
    "from mltools.resampling import Bootstrap, Jackknife\n",
    "from mltools import datasets"
   ]
  },
  {
   "cell_type": "markdown",
   "metadata": {},
   "source": [
    "## The Data\n",
    "\n",
    "Our data consist of average LSAT scores and average grade point averages (GPA) of the 1973 entering classes of $n=15$ American law schools."
   ]
  },
  {
   "cell_type": "code",
   "execution_count": 2,
   "metadata": {
    "scrolled": false
   },
   "outputs": [
    {
     "name": "stdout",
     "output_type": "stream",
     "text": [
      "    LSAT   GPA\n",
      "0    576  3.39\n",
      "1    635  3.30\n",
      "2    558  2.81\n",
      "3    578  3.03\n",
      "4    666  3.44\n",
      "5    580  3.07\n",
      "6    555  3.00\n",
      "7    661  3.43\n",
      "8    651  3.36\n",
      "9    605  3.13\n",
      "10   653  3.12\n",
      "11   575  2.74\n",
      "12   545  2.76\n",
      "13   572  2.88\n",
      "14   594  2.95\n"
     ]
    }
   ],
   "source": [
    "data = datasets.load_lsat_gpa()\n",
    "print(data)"
   ]
  },
  {
   "cell_type": "code",
   "execution_count": 3,
   "metadata": {},
   "outputs": [
    {
     "data": {
      "image/png": "[encoded data removed]",
      "text/plain": [
       "<matplotlib.figure.Figure at 0x112f85908>"
      ]
     },
     "metadata": {},
     "output_type": "display_data"
    }
   ],
   "source": [
    "plt.figure()\n",
    "plt.scatter(data.LSAT, data.GPA, c=\"b\", edgecolor=\"k\", alpha=0.7)\n",
    "for i in range(len(data)):\n",
    "    plt.text(data.LSAT[i] + 2, data.GPA[i], str(i),\n",
    "             horizontalalignment=\"left\", verticalalignment=\"center\")\n",
    "plt.xlabel(\"LSAT\")\n",
    "plt.ylabel(\"GPA\")\n",
    "plt.show()\n",
    "plt.close()"
   ]
  },
  {
   "cell_type": "markdown",
   "metadata": {},
   "source": [
    "Suppose we wish to estimate the correlation between average LSAT scores and average GPA using the Pearson correlation coefficient of our sample."
   ]
  },
  {
   "cell_type": "code",
   "execution_count": 4,
   "metadata": {},
   "outputs": [],
   "source": [
    "def correlation(x, y):\n",
    "    \"\"\"Pearson correlation coefficient between x and y.\"\"\"\n",
    "    # Coerce into NumPy arrays\n",
    "    x = np.asarray(x)\n",
    "    y = np.asarray(y)\n",
    "    \n",
    "    # Center x and y by subtracting off their sample means\n",
    "    x = x - x.mean()\n",
    "    y = y - y.mean()\n",
    "    \n",
    "    # Return the Pearson correlation coefficient\n",
    "    return x.dot(y) / np.sqrt(x.dot(x) * y.dot(y))"
   ]
  },
  {
   "cell_type": "markdown",
   "metadata": {},
   "source": [
    "### Observed Correlation Estimate"
   ]
  },
  {
   "cell_type": "code",
   "execution_count": 5,
   "metadata": {},
   "outputs": [
    {
     "name": "stdout",
     "output_type": "stream",
     "text": [
      "Observed correlation: 0.776\n"
     ]
    }
   ],
   "source": [
    "corr = correlation(data.LSAT, data.GPA)\n",
    "print(f\"Observed correlation: {corr:.3f}\")"
   ]
  },
  {
   "cell_type": "markdown",
   "metadata": {},
   "source": [
    "We wish to quantify the accuracy of this estimate of the correlation.\n",
    "One way of doing this is to report the *standard error* of our estimator.\n",
    "Since the distribution of the estimator is unknown, we estimate this standard error using the bootstrap and the jackknife."
   ]
  },
  {
   "cell_type": "markdown",
   "metadata": {},
   "source": [
    "## Using the Bootstrap\n",
    "\n",
    "MLTools provides a general-purpose bootstrap class `Bootstrap` in its `resampling` module to perform sampling distribution estimation."
   ]
  },
  {
   "cell_type": "code",
   "execution_count": 6,
   "metadata": {},
   "outputs": [
    {
     "name": "stdout",
     "output_type": "stream",
     "text": [
      "CPU times: user 461 ms, sys: 8.23 ms, total: 469 ms\n",
      "Wall time: 486 ms\n"
     ]
    }
   ],
   "source": [
    "%%time\n",
    "boot = Bootstrap(data.LSAT, data.GPA, stat=correlation, n_boot=10000, random_state=0)"
   ]
  },
  {
   "cell_type": "markdown",
   "metadata": {},
   "source": [
    "### Visualizing the Bootstrap Sampling Distribution"
   ]
  },
  {
   "cell_type": "code",
   "execution_count": 7,
   "metadata": {},
   "outputs": [
    {
     "data": {
      "image/png": "[encoded data removed]",
      "text/plain": [
       "<matplotlib.figure.Figure at 0x112fc6128>"
      ]
     },
     "metadata": {},
     "output_type": "display_data"
    }
   ],
   "source": [
    "plt.figure()\n",
    "plt.hist(boot.dist, bins=\"auto\")\n",
    "plt.axvline(boot.observed, ls=\"--\", c=\"k\", label=\"Observed Correlation\")\n",
    "plt.xlabel(\"Bootstrap Sample Correlation\")\n",
    "plt.ylabel(\"Frequency\")\n",
    "plt.legend(loc=\"best\", frameon=True, shadow=True)\n",
    "plt.title(\"Bootstrap Distribution\")\n",
    "plt.show()\n",
    "plt.close()"
   ]
  },
  {
   "cell_type": "markdown",
   "metadata": {},
   "source": [
    "### Estimating the Standard Error"
   ]
  },
  {
   "cell_type": "code",
   "execution_count": 8,
   "metadata": {
    "scrolled": true
   },
   "outputs": [
    {
     "name": "stdout",
     "output_type": "stream",
     "text": [
      "Bootstrap standard error: 0.134\n"
     ]
    }
   ],
   "source": [
    "se_boot = boot.se()\n",
    "print(f\"Bootstrap standard error: {se_boot:.3f}\")"
   ]
  },
  {
   "cell_type": "markdown",
   "metadata": {},
   "source": [
    "## Using the Jackknife\n",
    "\n",
    "MLTools provides a general-purpose jackknife class `Jackknife` in its `resampling` module to perform sampling distribution estimation."
   ]
  },
  {
   "cell_type": "code",
   "execution_count": 9,
   "metadata": {},
   "outputs": [
    {
     "name": "stdout",
     "output_type": "stream",
     "text": [
      "CPU times: user 2.44 ms, sys: 1.26 ms, total: 3.7 ms\n",
      "Wall time: 3.04 ms\n"
     ]
    }
   ],
   "source": [
    "%%time\n",
    "jack = Jackknife(data.LSAT, data.GPA, stat=correlation)"
   ]
  },
  {
   "cell_type": "markdown",
   "metadata": {},
   "source": [
    "### Visualizing the Jackknife Sampling Distribution"
   ]
  },
  {
   "cell_type": "code",
   "execution_count": 10,
   "metadata": {},
   "outputs": [
    {
     "data": {
      "image/png": "[encoded data removed]",
      "text/plain": [
       "<matplotlib.figure.Figure at 0x113710cc0>"
      ]
     },
     "metadata": {},
     "output_type": "display_data"
    }
   ],
   "source": [
    "plt.figure()\n",
    "plt.hist(jack.dist, bins=jack.n_sample)\n",
    "plt.axvline(jack.observed, ls=\"--\", c=\"k\", label=\"Observed Correlation\")\n",
    "plt.axvline(jack.estimate(), ls=\"--\", c=\"r\", label=\"Bias-Corrected Correlation\")\n",
    "plt.xlabel(\"Jackknife Sample Correlation\")\n",
    "plt.ylabel(\"Frequency\")\n",
    "plt.legend(loc=\"best\", frameon=True, shadow=True)\n",
    "plt.title(\"Jackknife Distribution\")\n",
    "plt.show()\n",
    "plt.close()"
   ]
  },
  {
   "cell_type": "markdown",
   "metadata": {},
   "source": [
    "### Jackknife Estimates"
   ]
  },
  {
   "cell_type": "code",
   "execution_count": 11,
   "metadata": {},
   "outputs": [
    {
     "name": "stdout",
     "output_type": "stream",
     "text": [
      "Jackknife bias estimate: -0.007\n",
      "Jackknife bias-corrected estimate: 0.782\n",
      "Jackknife standard error: 0.143\n"
     ]
    }
   ],
   "source": [
    "print(f\"Jackknife bias estimate: {jack.bias():.3f}\")\n",
    "print(f\"Jackknife bias-corrected estimate: {jack.estimate():.3f}\")\n",
    "print(f\"Jackknife standard error: {jack.se():.3f}\")"
   ]
  },
  {
   "cell_type": "markdown",
   "metadata": {},
   "source": [
    "# Theory"
   ]
  },
  {
   "cell_type": "markdown",
   "metadata": {},
   "source": [
    "## Estimating Correlation\n",
    "\n",
    "If $X$ and $Y$ are real-valued square-integrable random variables, then their *correlation* is defined to be\n",
    "$$\n",
    "\\rho(X, Y)\n",
    "= \\frac{\\mathrm{Cov}(X, Y)}{\\mathrm{SD}(X) \\mathrm{SD}(Y)}\n",
    "= \\frac{E[(X - E[X]) (Y - E[Y])]}{\\sqrt{E\\left[\\left(X-E[X]\\right)^2\\right] E\\left[\\left(Y-E[Y]\\right)^2\\right]}}.\n",
    "$$\n",
    "This is a measure of the linear association between $X$ and $Y$.\n",
    "By the Cauchy-Schwartz inequality, $\\rho \\in [-1, 1]$.\n",
    "If $\\rho(X, Y) = 1$, then $X$ and $Y$ have a perfect positive linear association; if $\\rho(X, Y) = -1$, then $X$ and $Y$ have a perfect negative linear association; if $\\rho(X, Y) = 0$, then $X$ and $Y$ have no linear association (this is the case, e.g., if $X$ and $Y$ are independent).\n",
    "\n",
    "Let $\\mu$ be the joint distribution of $(X, Y)$, which is a probability measure $\\mu$ on $\\mathcal{B}(\\mathbb{R}^2)$, the Borel $\\sigma$-algebra of $\\mathbb{R}^2$, and let\n",
    "$$\n",
    "\\mu_1(A) = \\mu(A \\times \\mathbb{R}),\n",
    "\\qquad\n",
    "\\mu_2(B) = \\mu(\\mathbb{R} \\times B)\n",
    "$$\n",
    "denote the marginal distributions of $X$ and $Y$, respectively.\n",
    "Then\n",
    "$$\n",
    "\\rho(X, Y)\n",
    "= \\frac{\\int_{\\mathbb{R}^2} \\left(x - \\int_{\\mathbb{R}} u \\, d\\mu_1(u)\\right)\n",
    "\\left(y - \\int_{\\mathbb{R}} v \\, d\\mu_2(v)\\right) \\, d\\mu(x, y)}\n",
    "{\\sqrt{\\left(\\int_{\\mathbb{R}} \\left(x - \\int_{\\mathbb{R}} u \\, d\\mu_1(u)\\right)^2 \\, d\\mu_1(x)\\right)\n",
    "\\left(\\int_{\\mathbb{R}} \\left(y - \\int_{\\mathbb{R}} v \\, d\\mu_2(v)\\right)^2 \\, d\\mu_2(u)\\right)}},\n",
    "$$\n",
    "which shows that $\\rho(X, Y)$ is really just a functional of $\\mu$.\n",
    "Hence we can write $\\rho(\\mu)$ instead of $\\rho(X, Y)$.\n",
    "\n",
    "Suppose we have an independent and identically distributed (i.i.d.) sample $(X_1, Y_2), \\ldots, (X_n, Y_n)$ of size $n$ drawn from some probability measure $\\mu$ on $\\mathcal{B}(\\mathbb{R}^2)$, and let $\\mathbf{X} = (X_1, \\ldots, X_n)$ and $\\mathbf{Y} = (Y_1, \\ldots, Y_n)$.\n",
    "If $\\mu$ is unknown and only a realization of $\\mathbf{X}$ and $\\mathbf{Y}$ is observed, then is natural to estimate $\\rho(\\mu)$ by the *Pearson correlation coefficient* of $\\mathbf{X}$ and $\\mathbf{Y}$:\n",
    "$$\n",
    "\\widehat{\\rho}_n(\\mathbf{X}, \\mathbf{Y})\n",
    "= \\frac{\\sum_{i=1}^n (X_i - \\bar{\\mathbf{X}}) (Y_i - \\bar{\\mathbf{Y}})}\n",
    "{\\sqrt{\\left(\\sum_{i=1}^n \\left(X_i - \\bar{\\mathbf{X}}\\right)^2\\right)\n",
    "\\left(\\sum_{i=1}^n \\left(Y_i - \\bar{\\mathbf{Y}}\\right)^2\\right)}},\n",
    "$$\n",
    "where\n",
    "$$\n",
    "\\bar{\\mathbf{X}} = \\frac{1}{n} \\sum_{i=1}^n X_i, \\qquad\n",
    "\\bar{\\mathbf{Y}} = \\frac{1}{n} \\sum_{i=1}^n Y_i\n",
    "$$\n",
    "are the sample means of $\\mathbf{X}$ and $\\mathbf{Y}$.\n",
    "Note that the estimator $\\widehat{\\rho}_n(\\mathbf{X}, \\mathbf{Y})$ is a random variable, while the true correlation $\\rho(\\mu)$ is a constant."
   ]
  },
  {
   "cell_type": "markdown",
   "metadata": {},
   "source": [
    "## The Jackknife"
   ]
  },
  {
   "cell_type": "markdown",
   "metadata": {},
   "source": [
    "### General Theory\n",
    "\n",
    "In general, suppose we have an i.i.d. sample $\\mathbf{X} = (X_1, \\ldots, X_n)$ ($n \\geq 2$) drawn from an unknown probability measure $\\mu$ on a Borel space $(\\mathcal{X}, \\mathcal{B})$ (so $\\mathbf{X}$ is a random quantity taking values in $\\mathcal{X}^n$).\n",
    "Suppose further that $(\\mathcal{Y}, \\mathcal{C})$ is another Borel space, and we want to use the sample $\\mathbf{X}$ to estimate some $\\mathcal{Y}$-valued parameter $\\theta$ which is a functional of $\\mu$; i.e., $\\theta = g(\\mu)$ for some function $g : \\mathcal{M}_1(\\mathcal{B}) \\to \\mathcal{Y}$, where $\\mathcal{M}_1(\\mathcal{B})$ denotes the space of probability measures on $\\mathcal{B}$.\n",
    "Suppose that, for each positive integer $k$, we have chosen a measurable function $T_k : \\mathcal{X}^k \\to \\mathcal{Y}$ which is to be used to estimate $\\theta$ based on $k$ observations.\n",
    "In particular, our sample $\\mathbf{X}$ gives us the estimator $\\widehat{\\theta} = T_n(\\mathbf{X})$.\n",
    "\n",
    "The general jackknife procedure begins with the following two steps:\n",
    "1. For each $i \\in \\{1, \\ldots, n\\}$, let $\\mathbf{X}_{(-i)}$ denote the sample $\\mathbf{X}$ with the $i$th observation omitted.\n",
    "That is, $\\mathbf{X}_{(-i)} = (X_1, \\ldots, X_{i-1}, X_{i+1}, \\ldots, X_n)$, which is a random quantity in $\\mathcal{X}^{n-1}$.\n",
    "2. For each $i \\in \\{1, \\ldots, n\\}$, let $\\widehat{\\theta}_{(-i)} = T_{n-1}(\\mathbf{X}_{(-i)})$ denote the *leave-1-out estimator* of $\\theta$ obtained from the sample with the $i$th observation removed.\n",
    "Each $\\widehat{\\theta}_{(-i)}$ is a random quantity in $\\mathcal{Y}$.\n",
    "\n",
    "The empirical distribution $\\widehat{\\mathbf{P}}_{\\mathrm{jack}}$ of $\\widehat{\\theta}_{(-1)}, \\ldots, \\widehat{\\theta}_{(-n)}$ is the *jackknife sampling distribution* of $\\widehat{\\theta}$.\n",
    "Specifically,\n",
    "$$\n",
    "\\widehat{\\mathbf{P}}_{\\mathrm{jack}}(A)\n",
    "= \\frac{1}{n} \\sum_{i=1}^n \\mathbb{1}_A (\\widehat{\\theta}_{(-i)})\n",
    "$$\n",
    "for each $A \\in \\mathcal{C}$\n",
    "(i.e., $\\widehat{\\mathbf{P}}_{\\mathrm{jack}}$ is the random probability measure on $\\mathcal{C}$ which puts a mass of $1/n$ on each point $\\widehat{\\theta}_{(-i)}$).\n",
    "The idea behind the jackknife is to use $\\widehat{\\mathbf{P}}_{\\mathrm{jack}}$ to estimate the unknown distribution of $\\widehat{\\theta}$."
   ]
  },
  {
   "cell_type": "markdown",
   "metadata": {},
   "source": [
    "\n",
    "\n",
    "### Estimating Bias and Standard Error\n",
    "\n",
    "Let us now specialize to the case $(\\mathcal{Y}, \\mathcal{C}) = (\\mathbb{R}, \\mathcal{B}(\\mathbb{R}))$.\n",
    "In this case, the jackknife sampling distribution $\\widehat{\\mathbf{P}}_{\\mathrm{jack}}$ is determined by the empirical cumultative distribution function $\\widehat{F}_{\\mathrm{jack}}$ of $\\widehat{\\theta}_{(-1)}, \\ldots, \\widehat{\\theta}_{(-n)}$:\n",
    "$$\n",
    "\\widehat{F}_{\\mathrm{jack}}(x)\n",
    "= \\widehat{\\mathbf{P}}_{\\mathrm{jack}}\\big((-\\infty, x]\\big)\n",
    "= \\frac{\\#\\big\\{i \\in \\{1, \\ldots, n\\} : \\widehat{\\theta}_{(-i)} \\leq x\\big\\}}{n}\n",
    "$$\n",
    "for each $x \\in \\mathbb{R}$.\n",
    "\n",
    "The jackknife allows us to estimate the *bias* of $\\widehat{\\theta}$ (as an estimator of $\\theta$) and the *standard error* of $\\widehat{\\theta}$:\n",
    "$$\n",
    "\\mathrm{Bias}(\\widehat{\\theta})\n",
    "= E[\\widehat{\\theta}] - \\theta,\n",
    "\\qquad\n",
    "\\mathrm{SE}(\\widehat{\\theta})\n",
    "= \\sqrt{\\mathrm{Var}(\\widehat{\\theta})}.\n",
    "$$\n",
    "The *jackknife bias estimator* is defined to be\n",
    "$$\n",
    "\\widehat{\\mathrm{Bias}}_{\\mathrm{jack}}(\\widehat{\\theta})\n",
    "= (n - 1) \\left(\\frac{1}{n} \\sum_{i=1}^n \\widehat{\\theta}_{(-i)} - \\widehat{\\theta}\\right),\n",
    "$$\n",
    "and the *bias-corrected jackknife estimator* of $\\theta$ is\n",
    "$$\n",
    "\\widehat{\\theta}_{\\mathrm{jack}}\n",
    "= \\widehat{\\theta} - \\widehat{\\mathrm{Bias}}_{\\mathrm{jack}}(\\widehat{\\theta})\n",
    "= n \\widehat{\\theta} - \\frac{n - 1}{n} \\sum_{i=1}^n \\widehat{\\theta}_{(-i)}.\n",
    "$$\n",
    "\n",
    "To see how the jackknife also allows us to estimate the standard error of $\\widehat{\\theta}$, note that we can write the bias-corrected jackknife estimator as\n",
    "$$\n",
    "\\widehat{\\theta}_{\\mathrm{jack}}\n",
    "= \\frac{1}{n} \\sum_{i=1}^n \\widetilde{\\theta}_i,\n",
    "$$\n",
    "where\n",
    "$$\n",
    "\\widetilde{\\theta}_i\n",
    "= n \\widehat{\\theta} - (n - 1) \\widehat{\\theta}_{(-i)}\n",
    "$$\n",
    "is the so-called $i$th *jackknife psuedo-value*.\n",
    "Tukey conjuectured that\n",
    "1. the psuedo-values $\\widetilde{\\theta}_1, \\ldots, \\widetilde{\\theta}_n$ may be treated as an i.i.d. sample, and\n",
    "2. $\\mathrm{Var}(\\widetilde{\\theta}_i) \\approx n \\mathrm{Var}(\\widehat{\\theta})$ for each $i \\in \\{1, \\ldots, n\\}$.\n",
    "\n",
    "These assumptions allow us to informally write\n",
    "$$\n",
    "\\mathrm{Var}(\\widehat{\\theta})\n",
    "\\approx \\frac{1}{n^2} \\sum_{i=1}^n \\mathrm{Var}(\\widetilde{\\theta}_i)\n",
    "\\approx \\mathrm{Var}\\left(\\frac{1}{n} \\sum_{i=1}^n \\widetilde{\\theta}_i\\right)\n",
    "= \\mathrm{Var}(\\widehat{\\theta}_{\\mathrm{jack}})\n",
    "$$\n",
    "Since $\\widehat{\\theta}_{\\mathrm{jack}}$ is the sample mean of the psuedo-values, this motivates estimating the variance of $\\widehat{\\theta}_{\\mathrm{jack}}$, and hence of $\\widehat{\\theta}$, by the *jackknife variance estimator*:\n",
    "$$\n",
    "\\widehat{\\mathrm{Var}}_{\\mathrm{jack}}(\\widehat{\\theta})\n",
    "= \\frac{1}{n (n - 1)} \\sum_{i=1}^n \\left(\\widetilde{\\theta}_i - \\frac{1}{n} \\sum_{j=1}^n \\widetilde{\\theta}_j\\right)^2\n",
    "= \\frac{n - 1}{n} \\sum_{i=1}^n \\left(\\widehat{\\theta}_{(-i)} - \\frac{1}{n} \\sum_{j=1}^n \\widehat{\\theta}_{(-j)}\\right)^2.\n",
    "$$\n",
    "The *jackknife standard error estimator* is then just the square root of the jackknife variance estimator:\n",
    "$$\n",
    "\\widehat{\\mathrm{SE}}_{\\mathrm{jack}}(\\widehat{\\theta})\n",
    "= \\sqrt{\\widehat{\\mathrm{Var}}_{\\mathrm{jack}}(\\widehat{\\theta})}\n",
    "= \\sqrt{\\frac{n - 1}{n} \\sum_{i=1}^n \\left(\\widehat{\\theta}_{(-i)} - \\frac{1}{n} \\sum_{j=1}^n \\widehat{\\theta}_{(-j)}\\right)^2}.\n",
    "$$"
   ]
  },
  {
   "cell_type": "markdown",
   "metadata": {},
   "source": [
    "## The Non-Parametric Bootstrap"
   ]
  },
  {
   "cell_type": "markdown",
   "metadata": {},
   "source": [
    "### General Theory\n",
    "\n",
    "Our setup for the bootstrap is very similar to the setup for the jackknife.\n",
    "Suppose we have an i.i.d. sample $\\mathbf{X} = (X_1, \\ldots, X_n)$ of size $n$ drawn from an unknown probability measure $\\mu$ on a Borel space $(\\mathcal{X}, \\mathcal{B})$.\n",
    "Moreover, suppose that $(\\mathcal{Y}, \\mathcal{C})$ is another Borel space, and we want to use the sample $\\mathbf{X}$ to estimate some $\\mathcal{Y}$-valued parameter $\\theta$ which is a functional of $\\mu$; i.e., $\\theta = g(\\mu)$ for some function $g : \\mathcal{M}_1(\\mathcal{B}) \\to \\mathcal{Y}$.\n",
    "Finally, suppose we have chosen a measureable function $T : \\mathcal{X}^n \\to \\mathcal{Y}$ which we intend to use to estimate $\\theta$ based on $n$ observations drawn from $\\mu$.\n",
    "In particular, our sample $\\mathbf{X}$ gives us the estimator $\\widehat{\\theta} = T(\\mathbf{X})$.\n",
    "\n",
    "The non-parametric bootstrap attempts to estimate the sampling distribution of $\\widehat{\\theta}$ by utilizing the empirical distribution $\\widehat{\\mathbf{P}}_{\\mathbf{X}}$ of $\\mathbf{X}$.\n",
    "This is the random probability measure on $(\\mathcal{X}, \\mathcal{B})$ given by\n",
    "$$\n",
    "\\widehat{\\mathbf{P}}_{\\mathbf{X}}(A)\n",
    "= \\frac{1}{n} \\sum_{i=1}^n \\mathbb{1}_A (X_i)\n",
    "$$\n",
    "for each $A \\in \\mathcal{B}$.\n",
    "We then use $\\widehat{\\mathbf{P}}_{\\mathbf{X}}$ as a proxy for the unknown distribution $\\mu$.\n",
    "\n",
    "The general bootstrap proedure consists of the following steps:\n",
    "1. Fix a (usually large) positive integer $B$.\n",
    "   This will be the number of bootstrap samples.\n",
    "2. For each $b \\in \\{1, \\ldots, B\\}$, draw an independent sample $\\mathbf{X}_b^* = (X_{b, 1}^*, \\ldots, X_{b, n}^*)$ from the empirical distribution $\\widehat{\\mathbf{P}}_{\\mathbf{X}}$.\n",
    "   In practice, if $\\mathbf{X} = (x_1, \\ldots, x_n) \\in \\mathcal{X}^n$ is observed, then a realization of each $\\mathbf{X}_b^*$ is obtained by drawing $n$ times with replacement from the $n$-tuple $(x_1, \\ldots, x_n)$.\n",
    "3. For each $b \\in \\{1, \\ldots, B\\}$, let $\\widehat{\\theta}_b^* = T(\\mathbf{X}_b^*)$ be the $b$th *bootstrap estimate* of $\\theta$.\n",
    "\n",
    "Just as in the jackknife, the empirical distribution $\\widehat{\\mathbf{P}}_{\\mathrm{boot}}$ of $\\widehat{\\theta}_1,^* \\ldots, \\widehat{\\theta}_B^*$ is the *bootstrap sampling distribution* of $\\widehat{\\theta}$.\n",
    "That is, $\\widehat{\\mathbf{P}}_{\\mathrm{boot}}$ is the random probability measure on $\\mathcal{C}$ which puts a mass of $1/B$ on each point $\\widehat{\\theta}_b^*$, meaning that\n",
    "$$\n",
    "\\widehat{\\mathbf{P}}_{\\mathrm{boot}}(C)\n",
    "= \\frac{1}{B} \\sum_{b=1}^B \\mathbb{1}_C (\\widehat{\\theta}_b^*)\n",
    "$$\n",
    "for each $C \\in \\mathcal{C}$\n",
    "The idea behind the bootstrap is to use $\\widehat{\\mathbf{P}}_{\\mathrm{boot}}$ to estimate the unknown distribution of $\\widehat{\\theta}$."
   ]
  },
  {
   "cell_type": "markdown",
   "metadata": {},
   "source": [
    "### Estimating Standard Error\n",
    "\n",
    "Now assume $(\\mathcal{Y}, \\mathcal{C}) = (\\mathbb{R}, \\mathcal{B}(\\mathbb{R}))$.\n",
    "In this case, the bootstrap sampling distribution $\\widehat{\\mathbf{P}}_{\\mathrm{boot}}$ is determined by the empirical cumultative distribution function $\\widehat{F}_{\\mathrm{boot}}$ of the bootstrap estimates $\\widehat{\\theta}_1^*, \\ldots, \\widehat{\\theta}_B^*$:\n",
    "$$\n",
    "\\widehat{F}_{\\mathrm{boot}}(x)\n",
    "= \\widehat{\\mathbf{P}}_{\\mathrm{boot}}\\big((-\\infty, x]\\big)\n",
    "= \\frac{\\#\\big\\{b \\in \\{1, \\ldots, B\\} : \\widehat{\\theta}_b^* \\leq x\\big\\}}{B}\n",
    "$$\n",
    "for each $x \\in \\mathbb{R}$.\n",
    "\n",
    "The bootstrap allows us to estimate the *standard error* of $\\widehat{\\theta}$ in a straightforward way.\n",
    "The *bootstrap standard error estimator* is just\n",
    "$$\n",
    "\\widehat{\\mathrm{SE}}_{\\mathrm{boot}}(\\widehat{\\theta})\n",
    "= \\sqrt{\\frac{1}{B} \\sum_{b=1}^B \\left(\\widehat{\\theta}_b^* - \\frac{1}{C} \\sum_{c=1}^B \\widehat{\\theta}_c^*\\right)^2}.\n",
    "$$"
   ]
  },
  {
   "cell_type": "markdown",
   "metadata": {},
   "source": [
    "## References\n",
    "\n",
    "### Data\n",
    "\n",
    "The (LSAT, GPA) dataset is taken from\n",
    "\n",
    "* Bradley Efron. \"Computers and the theory of statistics: thinking the unthinkable\".\n",
    "  SIAM Review, 1979, Vol. 21, No. 4: pp. 460–480.\n",
    "  ([DOI](https://doi.org/10.1137/1021092))\n",
    "\n",
    "\n",
    "### History\n",
    "\n",
    "The jackknife is attributed to Maurice Quenouille (for bias estimation) and John Tukey (for standard error estimation):\n",
    "\n",
    "* Maurice H. Quenouille. \"Problems in plane sampling\".\n",
    "  The Annals of Mathematical Statistics, 1949. Vol. 20, No. 3: pp. 355–375.\n",
    "  ([DOI](https://doi.org/10.1214/aoms/1177729989))\n",
    "* Maurice H. Quenouille. \"Notes on bias in estimation\".\n",
    "  Biometrika, 1956. Vol. 43, No. 3-4: pp. 353–360.\n",
    "  ([DOI](https://doi.org/10.1093/biomet/43.3-4.353))\n",
    "* John W. Tukey. \"Bias and confidence in not quite large samples (abstract)\".\n",
    "  The Annals of Mathematical Statistics, 1958. Vol. 29, No. 2: p. 614.\n",
    "  ([DOI](https://doi.org/10.1214/aoms/1177706647))\n",
    "\n",
    "The bootstrap was introduced by Bradley Efron in\n",
    "\n",
    "* Bradley Efron. \"Bootstrap methods: another look at the jackknife\".\n",
    "  The Annals of Statistics, 1979, Vol. 7, No. 1: pp. 1–26.\n",
    "  ([DOI](https://doi.org/10.1214/aos/1176344552))\n",
    "\n",
    "### General\n",
    "\n",
    "* Jun Shao and Dong Sheng Tu. *The jackknife and bootstrap*.\n",
    "  Springer Series in Statistics. Springer-Verlag, New York, 1995. pp. xviii+516.\n",
    "  ([DOI](https://doi.org/10.1007/978-1-4612-0795-5))\n",
    "* Larry Wasserman. *All of nonparametric statistics*.\n",
    "  Springer Texts in Statistics. Springer, New York, 2006, pp. xii+268.\n",
    "  ([DOI](https://doi.org/10.1007/0-387-30623-4))"
   ]
  }
 ],
 "metadata": {
  "kernelspec": {
   "display_name": "Python 3",
   "language": "python",
   "name": "python3"
  },
  "language_info": {
   "codemirror_mode": {
    "name": "ipython",
    "version": 3
   },
   "file_extension": ".py",
   "mimetype": "text/x-python",
   "name": "python",
   "nbconvert_exporter": "python",
   "pygments_lexer": "ipython3",
   "version": "3.6.4"
  }
 },
 "nbformat": 4,
 "nbformat_minor": 2
}
