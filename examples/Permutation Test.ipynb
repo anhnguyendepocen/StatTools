{
 "cells": [
  {
   "cell_type": "markdown",
   "metadata": {},
   "source": [
    "# Permutation Test Example"
   ]
  },
  {
   "cell_type": "code",
   "execution_count": 1,
   "metadata": {},
   "outputs": [],
   "source": [
    "import numpy as np\n",
    "import matplotlib.pyplot as plt\n",
    "import seaborn as sns\n",
    "sns.set(style=\"ticks\", palette=\"muted\", color_codes=True)\n",
    "\n",
    "from mltools.resampling import PermutationTest"
   ]
  },
  {
   "cell_type": "markdown",
   "metadata": {},
   "source": [
    "## Monte Carlo Permutation Test\n",
    "\n",
    "This is a Python port (with modifications) of [Thomas Leeper's R permutation test example](http://thomasleeper.com/Rcourse/Tutorials/permutationtests.html).\n",
    "\n",
    "We generate a sample $X$ of size $100$ from the $\\mathrm{Bernoulli}(1/2)$ distribution and another sample $Y$ of size $150$ from the $\\mathrm{Bernoulli}(1/2)$ offset by some $\\mathrm{Normal}(1, 3^2)$ noise."
   ]
  },
  {
   "cell_type": "code",
   "execution_count": 2,
   "metadata": {},
   "outputs": [],
   "source": [
    "np.random.seed(0)\n",
    "x = np.random.binomial(n=1, p=0.5, size=100)\n",
    "y = np.random.binomial(n=1, p=0.5, size=150) + np.random.normal(loc=1, scale=3, size=150)"
   ]
  },
  {
   "cell_type": "markdown",
   "metadata": {},
   "source": [
    "We visualize the observed samples $X$ and $Y$ using a histogram."
   ]
  },
  {
   "cell_type": "code",
   "execution_count": 3,
   "metadata": {},
   "outputs": [
    {
     "data": {
      "image/png": "[encoded data removed]",
      "text/plain": [
       "<matplotlib.figure.Figure at 0x113481c50>"
      ]
     },
     "metadata": {},
     "output_type": "display_data"
    }
   ],
   "source": [
    "plt.figure()\n",
    "plt.hist((x, y), label=(\"$X$\", \"$Y$\"))\n",
    "plt.legend(loc=\"best\", frameon=True, shadow=True)\n",
    "plt.xlabel(\"Value\")\n",
    "plt.ylabel(\"Frequency\")\n",
    "plt.show()\n",
    "plt.close()"
   ]
  },
  {
   "cell_type": "markdown",
   "metadata": {},
   "source": [
    "Pretending we didn't know the distributions of $X$ and $Y$, we wish to test whether these data come from distributions with different means.\n",
    "To test this hypothesis, our null hypothesis $H_0$ is that the underlying distributions *do* have the same mean.\n",
    "\n",
    "A natural test statistic for this scenario is the absolute difference in means between two samples.\n",
    "If $H_0$ were true, then this difference would be close to $0$.\n",
    "If $H_0$ were false, then this difference would be significantly positive."
   ]
  },
  {
   "cell_type": "code",
   "execution_count": 4,
   "metadata": {},
   "outputs": [],
   "source": [
    "def stat(x, y):\n",
    "    return np.abs(np.mean(x) - np.mean(y))"
   ]
  },
  {
   "cell_type": "markdown",
   "metadata": {},
   "source": [
    "Since we know the true distributions of $X$ and $Y$, we expect the observed difference in means between $X$ and $Y$ to be close to $1$."
   ]
  },
  {
   "cell_type": "code",
   "execution_count": 5,
   "metadata": {},
   "outputs": [
    {
     "name": "stdout",
     "output_type": "stream",
     "text": [
      "0.829291872847185\n"
     ]
    }
   ],
   "source": [
    "print(stat(x, y))"
   ]
  },
  {
   "cell_type": "markdown",
   "metadata": {},
   "source": [
    "Now we perform a permutation test at the default $\\alpha = 0.05$ significance level to determine whether this high of a difference could be attributed to chance alone (we expect it couldn't)."
   ]
  },
  {
   "cell_type": "code",
   "execution_count": 6,
   "metadata": {},
   "outputs": [
    {
     "name": "stdout",
     "output_type": "stream",
     "text": [
      "CPU times: user 596 ms, sys: 6.48 ms, total: 602 ms\n",
      "Wall time: 600 ms\n"
     ]
    }
   ],
   "source": [
    "%%time\n",
    "pt = PermutationTest(x, y, stat=stat, n_perm=15000, seed=0)"
   ]
  },
  {
   "cell_type": "markdown",
   "metadata": {},
   "source": [
    "Having performed the test, we can now report a $p$-value."
   ]
  },
  {
   "cell_type": "code",
   "execution_count": 7,
   "metadata": {},
   "outputs": [
    {
     "name": "stdout",
     "output_type": "stream",
     "text": [
      "p-value: 0.0057\n"
     ]
    }
   ],
   "source": [
    "p_value = pt.p_value(tail=\"right\")\n",
    "print(f\"p-value: {p_value:.4f}\")"
   ]
  },
  {
   "cell_type": "markdown",
   "metadata": {},
   "source": [
    "This low $p$-value allows us to reject $H_0$ at the $\\alpha = 0.05$ significance level, suggesting that the observed absolute difference in means is extreme relative to the empirical distribution of the mean differences of the permuted samples."
   ]
  },
  {
   "cell_type": "markdown",
   "metadata": {},
   "source": [
    "### Visualizing the Permutation Test\n",
    "\n",
    "To visualize the test, we can plot the histogram of the empirical distribution of mean differences obtained for the permutated samples and compare it to the true mean difference."
   ]
  },
  {
   "cell_type": "code",
   "execution_count": 8,
   "metadata": {},
   "outputs": [
    {
     "data": {
      "image/png": "[encoded data removed]",
      "text/plain": [
       "<matplotlib.figure.Figure at 0x113e6eef0>"
      ]
     },
     "metadata": {},
     "output_type": "display_data"
    }
   ],
   "source": [
    "plt.figure()\n",
    "\n",
    "plt.hist(pt.dist, bins=\"auto\")\n",
    "plt.axvline(pt.observed, c=\"r\", ls=\"--\", label=\"Observed absolute difference in means\")\n",
    "plt.legend(loc=\"best\", frameon=True, shadow=True)\n",
    "plt.xlabel(\"Absolute Difference in Means\")\n",
    "plt.ylabel(\"Frequency\")\n",
    "plt.show()\n",
    "plt.close()"
   ]
  }
 ],
 "metadata": {
  "kernelspec": {
   "display_name": "Python 3",
   "language": "python",
   "name": "python3"
  },
  "language_info": {
   "codemirror_mode": {
    "name": "ipython",
    "version": 3
   },
   "file_extension": ".py",
   "mimetype": "text/x-python",
   "name": "python",
   "nbconvert_exporter": "python",
   "pygments_lexer": "ipython3",
   "version": "3.6.4"
  }
 },
 "nbformat": 4,
 "nbformat_minor": 2
}
