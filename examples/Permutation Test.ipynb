{
 "cells": [
  {
   "cell_type": "markdown",
   "metadata": {},
   "source": [
    "# Permutation Test Example\n",
    "\n",
    "We give two examples of using permutation tests to test hypotheses.\n",
    "Our first example is an exact permutation test, while our second example is a Monte Carlo permutation test."
   ]
  },
  {
   "cell_type": "code",
   "execution_count": 1,
   "metadata": {},
   "outputs": [],
   "source": [
    "import numpy as np\n",
    "import matplotlib.pyplot as plt\n",
    "import seaborn as sns\n",
    "sns.set(style=\"ticks\", palette=\"muted\", color_codes=True)\n",
    "\n",
    "from mltools.resampling import PermutationTest"
   ]
  },
  {
   "cell_type": "markdown",
   "metadata": {},
   "source": [
    "## Exact Permutation Test\n",
    "\n",
    "This is a replication of Ronald Fisher's *lady tasting tea* esperiment ([Wikipedia](https://en.wikipedia.org/wiki/Lady_tasting_tea)).\n",
    "\n",
    "This experiment involved Muriel Bristol, Ph.D., a British phycologist who claimed to be able to tell whether milk or tea was added first to a cup.\n",
    "Ronald Fisher designed an experiment to test this claim.\n",
    "He prepared 8 cups of tea, 4 with milk added first and 4 with tea added first, and he served them to Bristol in random order.\n",
    "Bristol was informed of the experimental design and instructed to select the four cups prepared by a certain method (i.e., those in which milk was added first).\n",
    "In particular, Bristol knew that there were 4 cups of each kind, but she did not know the order in which they were served to her.\n",
    "Surprisingly, Bristol chose correctly for each cup.\n",
    "\n",
    "Fisher's null hypothesis was that the Bristol had no ability to distinguish between the cups in which milk was added first and the cups in which tea was added first.\n",
    "To test this null hypothesis, Fisher's test statistic was the number of successful selections."
   ]
  },
  {
   "cell_type": "code",
   "execution_count": 2,
   "metadata": {},
   "outputs": [],
   "source": [
    "# Let 0 = milk first, 1 = tea first\n",
    "\n",
    "# Bristol's correct guesses about cups prepared by adding milk first\n",
    "milk = [0, 0, 0, 0]\n",
    "\n",
    "# Bristol's correct guesses about cups prepared by adding tea first\n",
    "tea = [1, 1, 1, 1]\n",
    "\n",
    "# Test statistic: number of correct guesses\n",
    "def stat(m, t):\n",
    "    return np.sum(np.equal(m, 0)) + np.sum(np.equal(t, 1))"
   ]
  },
  {
   "cell_type": "markdown",
   "metadata": {},
   "source": [
    "To determine whether Bristol's success could be attributed to chance alone (instead of innate ability), Fisher considered all possible ways of re-arranging Bristol's choices.\n",
    "This leads to the exact permutation test, implemented in the MLTools `resampling` module as the `PermutationTest` class."
   ]
  },
  {
   "cell_type": "code",
   "execution_count": 3,
   "metadata": {},
   "outputs": [
    {
     "name": "stdout",
     "output_type": "stream",
     "text": [
      "CPU times: user 798 ms, sys: 4.9 ms, total: 803 ms\n",
      "Wall time: 802 ms\n"
     ]
    }
   ],
   "source": [
    "%%time\n",
    "pt = PermutationTest(milk, tea, stat=stat)"
   ]
  },
  {
   "cell_type": "markdown",
   "metadata": {},
   "source": [
    "We can visualize the test by plotting a histogram of the test statistic computed on all the possible ways that Bristol could have guessed."
   ]
  },
  {
   "cell_type": "code",
   "execution_count": 4,
   "metadata": {},
   "outputs": [
    {
     "data": {
      "image/png": "[encoded data removed]",
      "text/plain": [
       "<matplotlib.figure.Figure at 0x11306b0f0>"
      ]
     },
     "metadata": {},
     "output_type": "display_data"
    }
   ],
   "source": [
    "plt.figure()\n",
    "plt.hist(pt.dist, bins=(np.arange(10) - 0.5), density=True)\n",
    "plt.axvline(pt.observed, c=\"r\", ls=\"--\", label=\"Observed number of correct guesses\")\n",
    "plt.legend(loc=\"best\", frameon=True, shadow=True)\n",
    "plt.xlabel(\"Number of Correct Guesses\")\n",
    "plt.ylabel(\"Proportion\")\n",
    "plt.show()\n",
    "plt.close()"
   ]
  },
  {
   "cell_type": "markdown",
   "metadata": {},
   "source": [
    "Fisher computed a $p$-value from the test to quantify the probability that Bristol's correct guesses could be attributed to pure luck."
   ]
  },
  {
   "cell_type": "code",
   "execution_count": 5,
   "metadata": {},
   "outputs": [
    {
     "name": "stdout",
     "output_type": "stream",
     "text": [
      "p-value: 0.0143\n"
     ]
    }
   ],
   "source": [
    "p_value = pt.p_value()\n",
    "print(f\"p-value: {p_value:.4f}\")"
   ]
  },
  {
   "cell_type": "markdown",
   "metadata": {},
   "source": [
    "This low $p$-value allows us to reject Fisher's null hypothesis at the $\\alpha = 0.05$ significance level, suggesting that Muriel Bristol was unlikely to classify the cups correctly based on chance alone."
   ]
  },
  {
   "cell_type": "markdown",
   "metadata": {},
   "source": [
    "## Monte Carlo Permutation Test\n",
    "\n",
    "This is a Python port (with modifications) of [Thomas Leeper's R permutation test example](http://thomasleeper.com/Rcourse/Tutorials/permutationtests.html).\n",
    "\n",
    "We generate a sample $X$ of size $100$ from the $\\mathrm{Bernoulli}(1/2)$ distribution and another sample $Y$ of size $150$ from the $\\mathrm{Bernoulli}(1/2)$ offset by some $\\mathrm{Normal}(1, 3^2)$ noise."
   ]
  },
  {
   "cell_type": "code",
   "execution_count": 6,
   "metadata": {},
   "outputs": [],
   "source": [
    "np.random.seed(0)\n",
    "x = np.random.binomial(n=1, p=0.5, size=100)\n",
    "y = np.random.binomial(n=1, p=0.5, size=150) + np.random.normal(loc=1, scale=3, size=150)"
   ]
  },
  {
   "cell_type": "markdown",
   "metadata": {},
   "source": [
    "We visualize the observed samples $X$ and $Y$ using a histogram."
   ]
  },
  {
   "cell_type": "code",
   "execution_count": 7,
   "metadata": {},
   "outputs": [
    {
     "data": {
      "image/png": "[encoded data removed]",
      "text/plain": [
       "<matplotlib.figure.Figure at 0x1064f0828>"
      ]
     },
     "metadata": {},
     "output_type": "display_data"
    }
   ],
   "source": [
    "plt.figure()\n",
    "plt.hist((x, y), label=(\"$X$\", \"$Y$\"))\n",
    "plt.legend(loc=\"best\", frameon=True, shadow=True)\n",
    "plt.xlabel(\"Value\")\n",
    "plt.ylabel(\"Frequency\")\n",
    "plt.show()\n",
    "plt.close()"
   ]
  },
  {
   "cell_type": "markdown",
   "metadata": {},
   "source": [
    "Pretending we didn't know the distributions of $X$ and $Y$, we wish to test whether these data come from distributions with different means.\n",
    "To test this hypothesis, our null hypothesis $H_0$ is that the underlying distributions *do* have the same mean.\n",
    "\n",
    "A natural test statistic for this scenario is the absolute difference in means between two samples.\n",
    "If $H_0$ were true, then this difference would be close to $0$.\n",
    "If $H_0$ were false, then this difference would be significantly positive."
   ]
  },
  {
   "cell_type": "code",
   "execution_count": 8,
   "metadata": {},
   "outputs": [],
   "source": [
    "def stat(x, y):\n",
    "    return np.abs(np.mean(x) - np.mean(y))"
   ]
  },
  {
   "cell_type": "markdown",
   "metadata": {},
   "source": [
    "Since we know the true distributions of $X$ and $Y$, we expect the observed difference in means between $X$ and $Y$ to be close to $1$."
   ]
  },
  {
   "cell_type": "code",
   "execution_count": 9,
   "metadata": {},
   "outputs": [
    {
     "name": "stdout",
     "output_type": "stream",
     "text": [
      "0.829291872847185\n"
     ]
    }
   ],
   "source": [
    "print(stat(x, y))"
   ]
  },
  {
   "cell_type": "markdown",
   "metadata": {},
   "source": [
    "Now we perform a permutation test at the default $\\alpha = 0.05$ significance level to determine whether this high of a difference could be attributed to chance alone (we expect it couldn't)."
   ]
  },
  {
   "cell_type": "code",
   "execution_count": 10,
   "metadata": {},
   "outputs": [
    {
     "name": "stdout",
     "output_type": "stream",
     "text": [
      "CPU times: user 636 ms, sys: 10.9 ms, total: 647 ms\n",
      "Wall time: 643 ms\n"
     ]
    }
   ],
   "source": [
    "%%time\n",
    "pt = PermutationTest(x, y, stat=stat, n_perm=15000, random_state=0)"
   ]
  },
  {
   "cell_type": "markdown",
   "metadata": {},
   "source": [
    "To visualize the test, we can plot the histogram of the empirical distribution of mean differences obtained for the permutated samples and compare it to the true mean difference."
   ]
  },
  {
   "cell_type": "code",
   "execution_count": 11,
   "metadata": {},
   "outputs": [
    {
     "data": {
      "image/png": "[encoded data removed]",
      "text/plain": [
       "<matplotlib.figure.Figure at 0x1130815c0>"
      ]
     },
     "metadata": {},
     "output_type": "display_data"
    }
   ],
   "source": [
    "plt.figure()\n",
    "plt.hist(pt.dist, bins=\"auto\")\n",
    "plt.axvline(pt.observed, c=\"r\", ls=\"--\", label=\"Observed absolute difference in means\")\n",
    "plt.legend(loc=\"best\", frameon=True, shadow=True)\n",
    "plt.xlabel(\"Absolute Difference in Means\")\n",
    "plt.ylabel(\"Frequency\")\n",
    "plt.xlim(0, max(pt.dist))\n",
    "plt.show()\n",
    "plt.close()"
   ]
  },
  {
   "cell_type": "markdown",
   "metadata": {},
   "source": [
    "Having performed the test, we can now report a $p$-value."
   ]
  },
  {
   "cell_type": "code",
   "execution_count": 12,
   "metadata": {},
   "outputs": [
    {
     "name": "stdout",
     "output_type": "stream",
     "text": [
      "p-value: 0.0058\n"
     ]
    }
   ],
   "source": [
    "p_value = pt.p_value(tail=\"right\")\n",
    "print(f\"p-value: {p_value:.4f}\")"
   ]
  },
  {
   "cell_type": "markdown",
   "metadata": {},
   "source": [
    "This low $p$-value allows us to reject $H_0$ at the $\\alpha = 0.05$ significance level, suggesting that the observed absolute difference in means is extreme relative to the empirical distribution of the mean differences of the permuted samples."
   ]
  }
 ],
 "metadata": {
  "kernelspec": {
   "display_name": "Python 3",
   "language": "python",
   "name": "python3"
  },
  "language_info": {
   "codemirror_mode": {
    "name": "ipython",
    "version": 3
   },
   "file_extension": ".py",
   "mimetype": "text/x-python",
   "name": "python",
   "nbconvert_exporter": "python",
   "pygments_lexer": "ipython3",
   "version": "3.6.4"
  }
 },
 "nbformat": 4,
 "nbformat_minor": 2
}
