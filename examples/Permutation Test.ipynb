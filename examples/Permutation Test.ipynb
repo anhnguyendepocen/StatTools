{
 "cells": [
  {
   "cell_type": "markdown",
   "metadata": {},
   "source": [
    "# Permutation Test example\n",
    "\n",
    "This is a Python port (with minor modifications) of [Thomas Leeper's R permutation test example](http://thomasleeper.com/Rcourse/Tutorials/permutationtests.html)."
   ]
  },
  {
   "cell_type": "code",
   "execution_count": 1,
   "metadata": {},
   "outputs": [],
   "source": [
    "import numpy as np\n",
    "import matplotlib.pyplot as plt\n",
    "import seaborn as sns\n",
    "\n",
    "from mltools.hypothesis import PermutationTest"
   ]
  },
  {
   "cell_type": "markdown",
   "metadata": {},
   "source": [
    "We generate a sample $X$ of Bernoulli data and another Bernoulli sample $Y$ (of different size) offset by some Gaussian noise."
   ]
  },
  {
   "cell_type": "code",
   "execution_count": 2,
   "metadata": {},
   "outputs": [],
   "source": [
    "np.random.seed(0)\n",
    "x = np.random.binomial(n=1, p=0.5, size=100)\n",
    "y = np.random.binomial(n=1, p=0.6, size=150) + np.random.normal(loc=1, scale=3, size=150)"
   ]
  },
  {
   "cell_type": "markdown",
   "metadata": {},
   "source": [
    "We expect the difference in means between $X$ and $Y$ to be close to $1$."
   ]
  },
  {
   "cell_type": "code",
   "execution_count": 3,
   "metadata": {},
   "outputs": [
    {
     "name": "stdout",
     "output_type": "stream",
     "text": [
      "0.902625206181\n"
     ]
    }
   ],
   "source": [
    "true_diff = np.mean(y) - np.mean(x)\n",
    "print(true_diff)"
   ]
  },
  {
   "cell_type": "markdown",
   "metadata": {},
   "source": [
    "Now we perform a permutation test to determine whether this difference could be attributed to chance alone (we expect it couldn't)."
   ]
  },
  {
   "cell_type": "code",
   "execution_count": 4,
   "metadata": {},
   "outputs": [],
   "source": [
    "# The test statistic is the difference in means of two samples\n",
    "statistic = lambda a, b: np.mean(b) - np.mean(a)\n",
    "\n",
    "# Initialize and perform a permutation test\n",
    "pt = PermutationTest(x, y, statistic=statistic)\n",
    "res = pt.test(n=15000)"
   ]
  },
  {
   "cell_type": "markdown",
   "metadata": {},
   "source": [
    "To visualize the test, we plot the histogram of the empirical distribution of mean differences obtained for the permutation test, and compare it to the true mean difference."
   ]
  },
  {
   "cell_type": "code",
   "execution_count": 5,
   "metadata": {},
   "outputs": [
    {
     "data": {
      "image/png": "[encoded data removed]",
      "text/plain": [
       "<matplotlib.figure.Figure at 0x1127326d8>"
      ]
     },
     "metadata": {},
     "output_type": "display_data"
    }
   ],
   "source": [
    "plt.figure(figsize=(10, 10))\n",
    "sns.set(style=\"ticks\", color_codes=True)\n",
    "\n",
    "sns.distplot(pt.dist, kde=False)\n",
    "plt.axvline(res.statistic, label=\"True difference in means\")\n",
    "plt.legend(loc=\"best\", frameon=True, shadow=True, fontsize=\"large\")\n",
    "plt.title(\"Histogram of permuted differences in means\", fontsize=\"large\")\n",
    "plt.xlabel(\"Difference in means\", fontsize=\"medium\")\n",
    "plt.ylabel(\"Frequency\", fontsize=\"medium\")\n",
    "plt.show()\n",
    "plt.close()"
   ]
  },
  {
   "cell_type": "markdown",
   "metadata": {},
   "source": [
    "The histogram suggests that our null hypothesis (that the true means of $X$ and $Y$ are the same) can probably be rejected.\n",
    "The observed difference in means is extreme relative to the empirical distribution of the mean differences of the permuted samples.\n",
    "To verify that the difference is significant, we report the $p$-value of our test."
   ]
  },
  {
   "cell_type": "code",
   "execution_count": 6,
   "metadata": {},
   "outputs": [
    {
     "name": "stdout",
     "output_type": "stream",
     "text": [
      "p-value: 0.005\n"
     ]
    }
   ],
   "source": [
    "print(f\"p-value: {res.p_value:.3f}\")"
   ]
  }
 ],
 "metadata": {
  "kernelspec": {
   "display_name": "Python 3",
   "language": "python",
   "name": "python3"
  },
  "language_info": {
   "codemirror_mode": {
    "name": "ipython",
    "version": 3
   },
   "file_extension": ".py",
   "mimetype": "text/x-python",
   "name": "python",
   "nbconvert_exporter": "python",
   "pygments_lexer": "ipython3",
   "version": "3.6.0"
  }
 },
 "nbformat": 4,
 "nbformat_minor": 2
}
