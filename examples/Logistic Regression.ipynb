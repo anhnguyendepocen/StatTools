{
 "cells": [
  {
   "cell_type": "markdown",
   "metadata": {},
   "source": [
    "# Logistic Regression\n",
    "\n",
    "We will show how to use logistic regression to classify whether a case of breast cancer is benign or malignant using the [Wisconsin breast cancer dataset](https://archive.ics.uci.edu/ml/datasets/Breast+Cancer+Wisconsin+%28Diagnostic%29)"
   ]
  },
  {
   "cell_type": "code",
   "execution_count": 1,
   "metadata": {},
   "outputs": [],
   "source": [
    "from itertools import product\n",
    "\n",
    "import numpy as np\n",
    "from sklearn.datasets import load_breast_cancer\n",
    "from sklearn.metrics import accuracy_score, confusion_matrix\n",
    "import matplotlib.pyplot as plt\n",
    "import seaborn as sns\n",
    "sns.set(style=\"ticks\", palette=\"muted\", color_codes=True)\n",
    "\n",
    "from mltools.glm import LogisticRegression\n",
    "from mltools.optimization import GradientDescent, NewtonRaphson\n",
    "from mltools.preprocessing import Standardizer\n",
    "from mltools.visualization import pca_label_plot"
   ]
  },
  {
   "cell_type": "code",
   "execution_count": 2,
   "metadata": {},
   "outputs": [],
   "source": [
    "# Set NumPy random number generator seed for replicability\n",
    "np.random.seed(100)"
   ]
  },
  {
   "cell_type": "markdown",
   "metadata": {},
   "source": [
    "## Loading the data\n",
    "\n",
    "The breast cancer dataset imported from [scikit-learn](http://scikit-learn.org/stable/modules/generated/sklearn.datasets.load_breast_cancer.html) contains 569 samples with 30 real, positive features (including cancer mass attributes like mean radius, mean texture, mean perimeter, et cetera).\n",
    "Of the samples, 212 are labeled `\"malignant\"` and 357 are labeled `\"benign\"`.\n",
    "We load this data into a 569×30 feature matrix (`x`) and a 569×1 binary target vector (`y`).\n",
    "Then we randomly shuffle the data and designate the first half for training and the second half for testing.\n"
   ]
  },
  {
   "cell_type": "code",
   "execution_count": 3,
   "metadata": {},
   "outputs": [],
   "source": [
    "data = load_breast_cancer()\n",
    "x = data.data\n",
    "y = data.target_names[data.target]\n",
    "\n",
    "# Relabel the target vector\n",
    "y[y == \"malignant\"] = \"+\"\n",
    "y[y == \"benign\"] = \"-\"\n",
    "\n",
    "# Shuffle data and split it into training/testing samples\n",
    "idx = np.random.permutation(y.size)\n",
    "x_train, x_test = np.array_split(x[idx], 2)\n",
    "y_train, y_test = np.array_split(y[idx], 2)\n",
    "\n",
    "# Standardize training data to have mean 0 and variance 1\n",
    "std = Standardizer()\n",
    "std.fit(x_train)\n",
    "x_train = std.transform(x_train)\n",
    "\n",
    "# Standardize testing data using training standardization\n",
    "x_test = std.transform(x_test)"
   ]
  },
  {
   "cell_type": "markdown",
   "metadata": {},
   "source": [
    "## Fitting the logistic regression model\n",
    "\n",
    "Next, we initialize a `LogisticRegression` object from the MLTools `glm` module and fit it to the training data using gradient descent.\n",
    "We use an optional callback function to record the model's weights and average cross entropy loss during each iteration of gradient descent."
   ]
  },
  {
   "cell_type": "code",
   "execution_count": 4,
   "metadata": {},
   "outputs": [
    {
     "name": "stdout",
     "output_type": "stream",
     "text": [
      "CPU times: user 632 ms, sys: 12.4 ms, total: 644 ms\n",
      "Wall time: 664 ms\n"
     ]
    }
   ],
   "source": [
    "%%time\n",
    "\n",
    "# Initialize a logistic regression model\n",
    "clf = LogisticRegression(penalty=None)\n",
    "\n",
    "# Gradient descent for fitting the model\n",
    "gd = GradientDescent(rate=0.7, momentum=0.5, iterations=10000, anneal=25000)\n",
    "\n",
    "# Prepare a callback function for tracking the loss function convergence\n",
    "loss = []\n",
    "def callback(weight):\n",
    "    loss.append(clf.loss(weight))\n",
    "\n",
    "# Fit the model\n",
    "clf.fit(x=x_train, y=y_train, optimizer=gd, callback=callback)"
   ]
  },
  {
   "cell_type": "markdown",
   "metadata": {},
   "source": [
    "We can track the convergence of the model's training by plotting the average cross entropy loss against the iterations of the training algorithm."
   ]
  },
  {
   "cell_type": "code",
   "execution_count": 5,
   "metadata": {},
   "outputs": [
    {
     "data": {
      "image/png": "[encoded data removed]",
      "text/plain": [
       "<matplotlib.figure.Figure at 0x113dc5198>"
      ]
     },
     "metadata": {},
     "output_type": "display_data"
    }
   ],
   "source": [
    "plt.figure()\n",
    "plt.plot(np.arange(len(loss)), loss)\n",
    "plt.xlabel(\"Iteration\")\n",
    "plt.ylabel(\"Average Cross Entropy Loss\")\n",
    "plt.title(\"Convergence of loss function during training\")\n",
    "plt.show()"
   ]
  },
  {
   "cell_type": "markdown",
   "metadata": {},
   "source": [
    "## Prediction accuracy\n",
    "\n",
    "As a first indicator of how well the model predicts the correct labels, we can check its accuracy (number of correct predictions over the number of total predictions) on the training and test data.\n",
    "If the classifier is good, then the accuracy should be close to 1."
   ]
  },
  {
   "cell_type": "code",
   "execution_count": 6,
   "metadata": {},
   "outputs": [
    {
     "name": "stdout",
     "output_type": "stream",
     "text": [
      "Training accuracy: 1.0000\n",
      "Testing accuracy:  0.9577\n"
     ]
    }
   ],
   "source": [
    "pred_train = clf.predict(x_train)\n",
    "pred_test = clf.predict(x_test)\n",
    "accuracy_train = accuracy_score(y_train, pred_train)\n",
    "accuracy_test = accuracy_score(y_test, pred_test)\n",
    "print(f\"Training accuracy: {accuracy_train:.4f}\")\n",
    "print(f\"Testing accuracy:  {accuracy_test:.4f}\")"
   ]
  },
  {
   "cell_type": "markdown",
   "metadata": {},
   "source": [
    "## False positive rate, false negative rate, and precision\n",
    "\n",
    "Another classifier performance metric is the false positive rate and false negative rate of the predictions on the test set.\n",
    "If the classifier is good, then both rates should be close to 0."
   ]
  },
  {
   "cell_type": "code",
   "execution_count": 7,
   "metadata": {},
   "outputs": [
    {
     "name": "stdout",
     "output_type": "stream",
     "text": [
      "False positive rate: 0.0857\n",
      "False negative rate: 0.0168\n"
     ]
    }
   ],
   "source": [
    "# Compute the confusion matrix of the predictions to extract the indices\n",
    "# of true positives, false positives, true negatives, and false negatives\n",
    "tn, fp, fn, tp = confusion_matrix(y_test, pred_test).ravel()\n",
    "\n",
    "# Report the false positive and false negative rates\n",
    "fpr = fp / (fp + tn)\n",
    "fnr = fn / (fn + tp)\n",
    "precision = tp / (tp + fp)\n",
    "\n",
    "print(f\"False positive rate: {fpr:.4f}\")\n",
    "print(f\"False negative rate: {fnr:.4f}\")"
   ]
  },
  {
   "cell_type": "markdown",
   "metadata": {},
   "source": [
    "## Visualizing the misclassifications\n",
    "\n",
    "We can plot the first two principal components of the data points and their corresponding predicted label.\n",
    "A green mark indicates a correct classification, while a red mark indicates a misclassification."
   ]
  },
  {
   "cell_type": "code",
   "execution_count": 8,
   "metadata": {
    "scrolled": false
   },
   "outputs": [
    {
     "data": {
      "image/png": "[encoded data removed]",
      "text/plain": [
       "<matplotlib.figure.Figure at 0x113d7ba90>"
      ]
     },
     "metadata": {},
     "output_type": "display_data"
    }
   ],
   "source": [
    "# Plot the labeled training data\n",
    "plt.figure()\n",
    "ax, pca = pca_label_plot(x_train, y_train, pred_train)\n",
    "ax.set(title=\"Training\")\n",
    "plt.show()\n",
    "plt.close()"
   ]
  },
  {
   "cell_type": "code",
   "execution_count": 9,
   "metadata": {},
   "outputs": [
    {
     "data": {
      "image/png": "[encoded data removed]",
      "text/plain": [
       "<matplotlib.figure.Figure at 0x11438f7f0>"
      ]
     },
     "metadata": {},
     "output_type": "display_data"
    }
   ],
   "source": [
    "# Plot the labeled testing data\n",
    "plt.figure()\n",
    "pca_label_plot(x_test, y_test, pred_test, pca=pca)\n",
    "plt.title(\"Testing\")\n",
    "plt.show()\n",
    "plt.close()"
   ]
  },
  {
   "cell_type": "markdown",
   "metadata": {},
   "source": [
    "## Improving model generalization using $L^2$ regularization\n",
    "\n",
    "Our model is a perfect classifier on the training set, but it performs significantly worse on the testing data.\n",
    "This problem is called overfitting, meaning that our model will not necessarily generalize well to unseen samples of feature data.\n",
    "To combat this, we can train another logistic regression model, this time with $L^2$ regularization, and hopefully the testing accuracy will improve.\n",
    "We will also use Newton's method instead of gradient descent, and for this small dataset only a few iterations are required for convergence."
   ]
  },
  {
   "cell_type": "code",
   "execution_count": 10,
   "metadata": {},
   "outputs": [
    {
     "name": "stdout",
     "output_type": "stream",
     "text": [
      "CPU times: user 167 ms, sys: 14.5 ms, total: 182 ms\n",
      "Wall time: 156 ms\n"
     ]
    }
   ],
   "source": [
    "%%time\n",
    "newton = NewtonRaphson(iterations=100)\n",
    "clf_l2 = LogisticRegression(penalty=\"l2\", lam=0.01)\n",
    "clf_l2.fit(x=x_train, y=y_train, optimizer=newton)"
   ]
  },
  {
   "cell_type": "markdown",
   "metadata": {},
   "source": [
    "We report the new model's accuracy on the training and testing data. We observe a decrease in training accuracy, but an increase in testing accuracy."
   ]
  },
  {
   "cell_type": "code",
   "execution_count": 11,
   "metadata": {},
   "outputs": [
    {
     "name": "stdout",
     "output_type": "stream",
     "text": [
      "Training accuracy: 0.9860\n",
      "Testing accuracy:  0.9789\n"
     ]
    }
   ],
   "source": [
    "pred_train = clf_l2.predict(x_train)\n",
    "pred_test = clf_l2.predict(x_test)\n",
    "accuracy_train = accuracy_score(y_train, pred_train)\n",
    "accuracy_test = accuracy_score(y_test, pred_test)\n",
    "print(f\"Training accuracy: {accuracy_train:.4f}\")\n",
    "print(f\"Testing accuracy:  {accuracy_test:.4f}\")"
   ]
  },
  {
   "cell_type": "markdown",
   "metadata": {},
   "source": [
    "## An alternative: $L^1$ regularization\n",
    "\n",
    "We can also use $L^1$ regularization to train our logistic regression model.\n",
    "This has the added benefit of potentially pushing some of the model weights to zero, thereby performing a sort of model selection.\n",
    "We will train the model using Nesterov's accelerated gradient descent, and we will track the convergence of the weights using a callback function."
   ]
  },
  {
   "cell_type": "code",
   "execution_count": 12,
   "metadata": {},
   "outputs": [
    {
     "name": "stdout",
     "output_type": "stream",
     "text": [
      "CPU times: user 49.7 ms, sys: 3.77 ms, total: 53.5 ms\n",
      "Wall time: 55.3 ms\n"
     ]
    }
   ],
   "source": [
    "%%time\n",
    "gd = GradientDescent(rate=0.5, momentum=0.9, nesterov=True, iterations=1000, anneal=750)\n",
    "clf_l1 = LogisticRegression(penalty=\"l1\", lam=0.01)\n",
    "clf_l1.fit(x=x_train, y=y_train, optimizer=gd)"
   ]
  },
  {
   "cell_type": "markdown",
   "metadata": {},
   "source": [
    "Lastly, we report this third model's accuracy on the training and testing data."
   ]
  },
  {
   "cell_type": "code",
   "execution_count": 13,
   "metadata": {},
   "outputs": [
    {
     "name": "stdout",
     "output_type": "stream",
     "text": [
      "Training accuracy: 0.9895\n",
      "Testing accuracy:  0.9718\n"
     ]
    }
   ],
   "source": [
    "pred_train = clf_l1.predict(x_train)\n",
    "pred_test = clf_l1.predict(x_test)\n",
    "accuracy_train = accuracy_score(y_train, pred_train)\n",
    "accuracy_test = accuracy_score(y_test, pred_test)\n",
    "print(f\"Training accuracy: {accuracy_train:.4f}\")\n",
    "print(f\"Testing accuracy:  {accuracy_test:.4f}\")"
   ]
  }
 ],
 "metadata": {
  "kernelspec": {
   "display_name": "Python 3",
   "language": "python",
   "name": "python3"
  },
  "language_info": {
   "codemirror_mode": {
    "name": "ipython",
    "version": 3
   },
   "file_extension": ".py",
   "mimetype": "text/x-python",
   "name": "python",
   "nbconvert_exporter": "python",
   "pygments_lexer": "ipython3",
   "version": "3.6.4"
  }
 },
 "nbformat": 4,
 "nbformat_minor": 1
}
