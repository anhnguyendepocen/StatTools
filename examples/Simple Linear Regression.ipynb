{
 "cells": [
  {
   "cell_type": "markdown",
   "metadata": {},
   "source": [
    "# Simple Linear Regression\n",
    "\n",
    "We will show how to use linear regression to find a best fit line through an artificial 2D scatter plot generated from a line with Gaussian noise added."
   ]
  },
  {
   "cell_type": "code",
   "execution_count": 1,
   "metadata": {
    "scrolled": false
   },
   "outputs": [],
   "source": [
    "import numpy as np\n",
    "import matplotlib.pyplot as plt\n",
    "import seaborn as sns\n",
    "sns.set(style=\"ticks\", palette=\"muted\", color_codes=True)\n",
    "\n",
    "from stattools.glm import LinearRegression\n",
    "from stattools.visualization import abline"
   ]
  },
  {
   "cell_type": "code",
   "execution_count": 2,
   "metadata": {},
   "outputs": [],
   "source": [
    "# Set NumPy random number generator seed for replicability\n",
    "np.random.seed(100)"
   ]
  },
  {
   "cell_type": "markdown",
   "metadata": {},
   "source": [
    "## Create Some Artificial Data"
   ]
  },
  {
   "cell_type": "code",
   "execution_count": 3,
   "metadata": {},
   "outputs": [],
   "source": [
    "n = 100\n",
    "slope = 3\n",
    "intercept = 2\n",
    "\n",
    "x = np.random.uniform(0, 10, n)\n",
    "y = slope * x + intercept + np.random.normal(0, 10, n)"
   ]
  },
  {
   "cell_type": "markdown",
   "metadata": {},
   "source": [
    "## The Ordinary Least Squares Regression Model"
   ]
  },
  {
   "cell_type": "markdown",
   "metadata": {},
   "source": [
    "### Fitting the Model"
   ]
  },
  {
   "cell_type": "code",
   "execution_count": 4,
   "metadata": {},
   "outputs": [
    {
     "name": "stdout",
     "output_type": "stream",
     "text": [
      "CPU times: user 4 µs, sys: 1 µs, total: 5 µs\n",
      "Wall time: 8.82 µs\n"
     ]
    }
   ],
   "source": [
    "%time\n",
    "model = LinearRegression().fit(x, y)"
   ]
  },
  {
   "cell_type": "markdown",
   "metadata": {},
   "source": [
    "### Plotting the Fit"
   ]
  },
  {
   "cell_type": "code",
   "execution_count": 5,
   "metadata": {},
   "outputs": [
    {
     "data": {
      "image/png": "[encoded data removed]",
      "text/plain": [
       "<matplotlib.figure.Figure at 0x112cb8b70>"
      ]
     },
     "metadata": {},
     "output_type": "display_data"
    }
   ],
   "source": [
    "# Get intercept (a) and slope (b) of model\n",
    "a = model.intercept\n",
    "b = model.coef[0]\n",
    "\n",
    "# Plot the regression line\n",
    "plt.figure()\n",
    "plt.scatter(x, y, c=\"b\", alpha=0.7, edgecolor=\"k\")\n",
    "abline(intercept, slope, lw=3, c=\"k\", label=f\"Actual: y = {intercept} + {slope}x\")\n",
    "abline(a, b, lw=3, c=\"r\", label=f\"Prediction: y = {a:.3f} + {b:.3f}x\")\n",
    "plt.title(\"OLS Regression\")\n",
    "plt.legend(loc=\"best\", frameon=True, shadow=True)\n",
    "plt.show()\n",
    "plt.close()"
   ]
  },
  {
   "cell_type": "markdown",
   "metadata": {},
   "source": [
    "### Mean Squared Error\n",
    "\n",
    "To evaluate this model's performance, we compute its *mean squared error* on the data set:\n",
    "$$\n",
    "\\mathrm{MSE} = \\frac{1}{n} \\sum_{i=1}^n \\left(y_i - \\widehat{y}_i\\right)^2.\n",
    "$$\n",
    "Here $n$ is the number of observations, $y_i$ is the $i$th observed value, and $\\widehat{y}_i$ is the least squares estimate corresponding to the $i$th data point.\n",
    "A good regressor achieves an MLE close to zero."
   ]
  },
  {
   "cell_type": "code",
   "execution_count": 6,
   "metadata": {},
   "outputs": [
    {
     "name": "stdout",
     "output_type": "stream",
     "text": [
      "MSE: 2.74269\n"
     ]
    }
   ],
   "source": [
    "yy = slope * x + intercept\n",
    "mse = model.mse(x, yy)\n",
    "print(f\"MSE: {mse:.5f}\")"
   ]
  }
 ],
 "metadata": {
  "kernelspec": {
   "display_name": "Python 3",
   "language": "python",
   "name": "python3"
  },
  "language_info": {
   "codemirror_mode": {
    "name": "ipython",
    "version": 3
   },
   "file_extension": ".py",
   "mimetype": "text/x-python",
   "name": "python",
   "nbconvert_exporter": "python",
   "pygments_lexer": "ipython3",
   "version": "3.6.4"
  }
 },
 "nbformat": 4,
 "nbformat_minor": 1
}
