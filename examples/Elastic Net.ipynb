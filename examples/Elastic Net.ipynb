{
 "cells": [
  {
   "cell_type": "markdown",
   "metadata": {},
   "source": [
    "# The Elastic Net\n",
    "\n",
    "The elastic net is a penalized version of linear regression, which assumes a model of the form\n",
    "$$\n",
    "\\mathbf{Y} = \\mathbf{X} \\boldsymbol{\\beta} + \\boldsymbol{\\varepsilon}\n",
    "$$\n",
    "where $\\mathbf{Y}$ is a known $n \\times 1$ observed response variable vector, $\\mathbf{X}$ is a known $n \\times (p + 1)$ observed explanatory variable matrix, $\\boldsymbol{\\beta}$ is an unknown $(p + 1) \\times 1$ coefficient vector, and $\\boldsymbol{\\varepsilon}$ is an unknown vector of i.i.d. Gaussian errors with mean zero and unknown variance.\n",
    "The classical least-squares estimator of $\\boldsymbol{\\beta}$ is\n",
    "$$\n",
    "\\widehat{\\boldsymbol{\\beta}}_{\\mathrm{LS}}\n",
    "= \\left(\\mathbf{X}^\\top \\mathbf{X}\\right)^- \\mathbf{X}^\\top \\mathbf{Y},\n",
    "$$\n",
    "where $\\left(\\mathbf{X}^\\top \\mathbf{X}\\right)^-$ is a generalized inverse of $\\mathbf{X}^\\top \\mathbf{X}$.\n",
    "Equivalently,\n",
    "$$\n",
    "\\widehat{\\boldsymbol{\\beta}}_{\\mathrm{LS}}\n",
    "\\in \\mathrm{argmin}_{\\boldsymbol{\\beta} \\in \\mathbb{R}^{p + 1}}\n",
    "\\left(\\frac{1}{2 n} \\left\\|\\mathbf{Y} - \\mathbf{X} \\boldsymbol{\\beta}\\right\\|_2^2\\right).\n",
    "$$\n",
    "An *elastic net estimator* of $\\boldsymbol{\\beta}$ is any\n",
    "$$\n",
    "\\widehat{\\boldsymbol{\\beta}}_{\\mathrm{EN}}\n",
    "\\in \\mathrm{argmin}_{\\boldsymbol{\\beta} \\in \\mathbb{R}^{p + 1}}\n",
    "\\left[\\frac{1}{2 n} \\left\\|\\mathbf{Y} - \\mathbf{X} \\boldsymbol{\\beta}\\right\\|_2^2 + \\lambda\\left(\\alpha \\left\\|\\boldsymbol{\\beta}\\right\\|_1 + \\frac{1 - \\alpha}{2} \\left\\|\\boldsymbol{\\beta}\\right\\|_2^2\\right)\\right]\n",
    "$$\n",
    "for some fixed $\\alpha \\in [0, 1]$ and $\\lambda > 0$."
   ]
  },
  {
   "cell_type": "code",
   "execution_count": 1,
   "metadata": {},
   "outputs": [],
   "source": [
    "import numpy as np\n",
    "from sklearn import datasets\n",
    "import matplotlib.pyplot as plt\n",
    "import seaborn as sns\n",
    "sns.set(style=\"ticks\", palette=\"muted\", color_codes=True)\n",
    "\n",
    "from mltools.glm import LinearRegression, ElasticNet"
   ]
  },
  {
   "cell_type": "code",
   "execution_count": 2,
   "metadata": {},
   "outputs": [],
   "source": [
    "# Set NumPy random number generator seed for replicability\n",
    "np.random.seed(100)"
   ]
  },
  {
   "cell_type": "markdown",
   "metadata": {},
   "source": [
    "## Load the Boston Housing Data"
   ]
  },
  {
   "cell_type": "code",
   "execution_count": 3,
   "metadata": {},
   "outputs": [],
   "source": [
    "data = datasets.load_boston()\n",
    "\n",
    "# Shuffle data\n",
    "n = len(data.target)\n",
    "idx = np.random.permutation(n)\n",
    "x = data.data[idx, :]\n",
    "y = data.target[idx]\n",
    "\n",
    "# 50/50 training/testing split\n",
    "x_train = x[:(n // 2), :]\n",
    "x_test = x[(n // 2):, :]\n",
    "y_train = y[:(n // 2)]\n",
    "y_test = y[(n // 2):]"
   ]
  },
  {
   "cell_type": "markdown",
   "metadata": {},
   "source": [
    "## Fit a Classical Linear Regression Model"
   ]
  },
  {
   "cell_type": "code",
   "execution_count": 4,
   "metadata": {},
   "outputs": [
    {
     "name": "stdout",
     "output_type": "stream",
     "text": [
      "CPU times: user 2.29 ms, sys: 1.69 ms, total: 3.99 ms\n",
      "Wall time: 3.11 ms\n"
     ]
    }
   ],
   "source": [
    "%%time\n",
    "model = LinearRegression().fit(x_train, y_train)"
   ]
  },
  {
   "cell_type": "markdown",
   "metadata": {},
   "source": [
    "### Report Mean Squared Error"
   ]
  },
  {
   "cell_type": "code",
   "execution_count": 5,
   "metadata": {},
   "outputs": [
    {
     "name": "stdout",
     "output_type": "stream",
     "text": [
      "Training MSE:   23.630\n",
      "Testing MSE:    23.131\n",
      "Full data MSE:  23.381\n"
     ]
    }
   ],
   "source": [
    "mse_train = model.mse(x_train, y_train)\n",
    "mse_test = model.mse(x_test, y_test)\n",
    "mse_full = model.mse(x, y)\n",
    "print(f\"Training MSE:   {mse_train:.3f}\")\n",
    "print(f\"Testing MSE:    {mse_test:.3f}\")\n",
    "print(f\"Full data MSE:  {mse_full:.3f}\")"
   ]
  },
  {
   "cell_type": "markdown",
   "metadata": {},
   "source": [
    "## Fit an Elastic Net Model"
   ]
  },
  {
   "cell_type": "code",
   "execution_count": 6,
   "metadata": {},
   "outputs": [
    {
     "name": "stdout",
     "output_type": "stream",
     "text": [
      "Fitted elastic net (λ: 0.01, α: 1.0) with 253 observations, 13 predictors\n",
      "\tNumber of iterations: 34 (tolerance: 0.0001)\n",
      "\tFinal (standardized) elastic net loss: 0.15511\n",
      "CPU times: user 20.6 ms, sys: 7.21 ms, total: 27.8 ms\n",
      "Wall time: 28.1 ms\n"
     ]
    }
   ],
   "source": [
    "%%time\n",
    "model = ElasticNet(alpha=1, lam=0.01)\n",
    "model.fit(x_train, y_train, verbose=True)"
   ]
  },
  {
   "cell_type": "markdown",
   "metadata": {},
   "source": [
    "### Report Mean Squared Error"
   ]
  },
  {
   "cell_type": "code",
   "execution_count": 7,
   "metadata": {},
   "outputs": [
    {
     "name": "stdout",
     "output_type": "stream",
     "text": [
      "Training MSE:   24.201\n",
      "Testing MSE:    22.011\n",
      "Full data MSE:  23.106\n"
     ]
    }
   ],
   "source": [
    "mse_train = model.mse(x_train, y_train)\n",
    "mse_test = model.mse(x_test, y_test)\n",
    "mse_full = model.mse(x, y)\n",
    "print(f\"Training MSE:   {mse_train:.3f}\")\n",
    "print(f\"Testing MSE:    {mse_test:.3f}\")\n",
    "print(f\"Full data MSE:  {mse_full:.3f}\")"
   ]
  },
  {
   "cell_type": "markdown",
   "metadata": {},
   "source": [
    "## Regularization Path"
   ]
  },
  {
   "cell_type": "code",
   "execution_count": 8,
   "metadata": {},
   "outputs": [
    {
     "data": {
      "image/png": "[encoded data removed]",
      "text/plain": [
       "<matplotlib.figure.Figure at 0x106566b70>"
      ]
     },
     "metadata": {},
     "output_type": "display_data"
    }
   ],
   "source": [
    "lam_min = 0.001\n",
    "lam_max = 1\n",
    "coefs, lambdas = model.path(x, y, lam_min=lam_min, lam_max=lam_max)\n",
    "\n",
    "plt.figure()\n",
    "for i in range(coefs.shape[1]):\n",
    "    plt.plot(lambdas, coefs[:, i])\n",
    "\n",
    "plt.title(\"Regularization Path\")\n",
    "plt.xlabel(\"$\\lambda$\")\n",
    "plt.ylabel(\"Standardized Coefficient\")\n",
    "plt.xscale(\"log\")\n",
    "plt.xlim(lam_min, lam_max)\n",
    "plt.show()\n",
    "plt.close()"
   ]
  },
  {
   "cell_type": "markdown",
   "metadata": {},
   "source": [
    "## References\n",
    "\n",
    "* Zou Hui, Trevor Hastie.\n",
    "  \"Regularization and Variable Selection via the Elastic Net\".\n",
    "  Journal of the Royal Statistical Society, Series B. Vol. 67, No. 2, 2005, pp. 301--320.\n",
    "  ([DOI](https://doi.org/10.1111/j.1467-9868.2005.00503.x))\n",
    "* Jerome Friedman, Trevor Hastie, and Robert Tibshirani.\n",
    "  \"Regularization Paths for Generalized Linear Models via Coordinate Descent\".\n",
    "  Journal of Statistical Software Vol. 33, No. 1, 2010, pp. 1--22.\n",
    "  ([PMCID](https://www.ncbi.nlm.nih.gov/pmc/articles/PMC2929880/))"
   ]
  }
 ],
 "metadata": {
  "kernelspec": {
   "display_name": "Python 3",
   "language": "python",
   "name": "python3"
  },
  "language_info": {
   "codemirror_mode": {
    "name": "ipython",
    "version": 3
   },
   "file_extension": ".py",
   "mimetype": "text/x-python",
   "name": "python",
   "nbconvert_exporter": "python",
   "pygments_lexer": "ipython3",
   "version": "3.6.4"
  }
 },
 "nbformat": 4,
 "nbformat_minor": 2
}
