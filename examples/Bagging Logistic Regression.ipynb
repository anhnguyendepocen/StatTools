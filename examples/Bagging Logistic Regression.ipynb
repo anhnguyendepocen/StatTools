{
 "cells": [
  {
   "cell_type": "markdown",
   "metadata": {},
   "source": [
    "# Bagging Logistic Regression\n",
    "\n",
    "We demonstrate how to use bagging (**b**ootstrap **agg**regat**ing**) to improve the performance of logistic regression on the [Wisconsin breast cancer dataset](https://archive.ics.uci.edu/ml/datasets/Breast+Cancer+Wisconsin+%28Diagnostic%29)."
   ]
  },
  {
   "cell_type": "code",
   "execution_count": 1,
   "metadata": {},
   "outputs": [],
   "source": [
    "import numpy as np\n",
    "from sklearn.datasets import load_breast_cancer\n",
    "\n",
    "from stattools.ensemble import BaggingClassifier\n",
    "from stattools.glm import LogisticRegression\n",
    "from stattools.optimization import NewtonRaphson\n",
    "from stattools.preprocessing import Standardizer"
   ]
  },
  {
   "cell_type": "code",
   "execution_count": 2,
   "metadata": {},
   "outputs": [],
   "source": [
    "# Set NumPy random number generator seed for replicability\n",
    "np.random.seed(10)"
   ]
  },
  {
   "cell_type": "markdown",
   "metadata": {},
   "source": [
    "## Loading the breast cancer dataset"
   ]
  },
  {
   "cell_type": "code",
   "execution_count": 3,
   "metadata": {},
   "outputs": [],
   "source": [
    "data = load_breast_cancer()\n",
    "x = data.data\n",
    "y = data.target_names[data.target]\n",
    "\n",
    "# Shuffle data and split it into training/testing samples\n",
    "idx = np.random.permutation(y.size)\n",
    "x_train, x_test = np.array_split(x[idx], 2)\n",
    "y_train, y_test = np.array_split(y[idx], 2)\n",
    "\n",
    "# Standardize training data to have mean 0 and variance 1\n",
    "std = Standardizer()\n",
    "std.fit(x_train)\n",
    "x_train = std.transform(x_train)\n",
    "\n",
    "# Standardize testing data using training standardization\n",
    "x_test = std.transform(x_test)"
   ]
  },
  {
   "cell_type": "markdown",
   "metadata": {},
   "source": [
    "## Ordinary logistic regression model with an $L^2$ penalty"
   ]
  },
  {
   "cell_type": "code",
   "execution_count": 4,
   "metadata": {},
   "outputs": [
    {
     "name": "stdout",
     "output_type": "stream",
     "text": [
      "CPU times: user 90.2 ms, sys: 7.48 ms, total: 97.7 ms\n",
      "Wall time: 71.3 ms\n"
     ]
    }
   ],
   "source": [
    "%%time\n",
    "model = LogisticRegression(reg=\"l2\", penalty=0.01, standardize=False)\n",
    "newton = NewtonRaphson(iterations=100)\n",
    "model.fit(x=x_train, y=y_train, optimizer=newton)"
   ]
  },
  {
   "cell_type": "code",
   "execution_count": 5,
   "metadata": {},
   "outputs": [
    {
     "name": "stdout",
     "output_type": "stream",
     "text": [
      "Training misclassification rate: 0.0035\n",
      "Testing misclassification rate:  0.0423\n"
     ]
    }
   ],
   "source": [
    "mcr_train = model.mcr(x_train, y_train)\n",
    "mcr_test = model.mcr(x_test, y_test)\n",
    "print(f\"Training misclassification rate: {mcr_train:.4f}\")\n",
    "print(f\"Testing misclassification rate:  {mcr_test:.4f}\")"
   ]
  },
  {
   "cell_type": "markdown",
   "metadata": {},
   "source": [
    "## Bagging the previous logistic regression model"
   ]
  },
  {
   "cell_type": "code",
   "execution_count": 6,
   "metadata": {},
   "outputs": [
    {
     "name": "stdout",
     "output_type": "stream",
     "text": [
      "CPU times: user 10.2 s, sys: 628 ms, total: 10.8 s\n",
      "Wall time: 8.54 s\n"
     ]
    }
   ],
   "source": [
    "%%time\n",
    "model = BaggingClassifier(base=LogisticRegression, reg=\"l2\", penalty=0.01, standardize=False)\n",
    "newton = NewtonRaphson(iterations=100)\n",
    "model.fit(x=x_train, y=y_train, optimizer=newton)"
   ]
  },
  {
   "cell_type": "code",
   "execution_count": 7,
   "metadata": {},
   "outputs": [
    {
     "name": "stdout",
     "output_type": "stream",
     "text": [
      "Training misclassification rate: 0.0035\n",
      "Testing misclassification rate:  0.0387\n"
     ]
    }
   ],
   "source": [
    "mcr_train = model.mcr(x_train, y_train)\n",
    "mcr_test = model.mcr(x_test, y_test)\n",
    "print(f\"Training misclassification rate: {mcr_train:.4f}\")\n",
    "print(f\"Testing misclassification rate:  {mcr_test:.4f}\")"
   ]
  },
  {
   "cell_type": "markdown",
   "metadata": {},
   "source": [
    "## References\n",
    "\n",
    "Leo Breiman. \"Bagging Predictors\".\n",
    "Machine Learning, 1996, Vol. 24, No. 2: pp. 123–140. ([DOI](https://doi.org/10.1007/BF00058655))"
   ]
  }
 ],
 "metadata": {
  "kernelspec": {
   "display_name": "Python 3",
   "language": "python",
   "name": "python3"
  },
  "language_info": {
   "codemirror_mode": {
    "name": "ipython",
    "version": 3
   },
   "file_extension": ".py",
   "mimetype": "text/x-python",
   "name": "python",
   "nbconvert_exporter": "python",
   "pygments_lexer": "ipython3",
   "version": "3.6.4"
  }
 },
 "nbformat": 4,
 "nbformat_minor": 2
}
